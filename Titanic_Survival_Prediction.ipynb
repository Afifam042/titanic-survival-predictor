{
  "nbformat": 4,
  "nbformat_minor": 0,
  "metadata": {
    "colab": {
      "provenance": []
    },
    "kernelspec": {
      "name": "python3",
      "display_name": "Python 3"
    },
    "language_info": {
      "name": "python"
    }
  },
  "cells": [
    {
      "cell_type": "code",
      "execution_count": null,
      "metadata": {
        "colab": {
          "base_uri": "https://localhost:8080/"
        },
        "id": "1gEVdzXvgYwC",
        "outputId": "871140a9-d652-4d94-9fc0-7c642d9187cd"
      },
      "outputs": [
        {
          "output_type": "stream",
          "name": "stdout",
          "text": [
            "Missing values before imputation:\n",
            "PassengerId      0\n",
            "Survived         0\n",
            "Pclass           0\n",
            "Name             0\n",
            "Sex              0\n",
            "Age            177\n",
            "SibSp            0\n",
            "Parch            0\n",
            "Ticket           0\n",
            "Fare             0\n",
            "Cabin          687\n",
            "Embarked         2\n",
            "dtype: int64\n",
            "Missing values after imputation:\n",
            "PassengerId      0\n",
            "Survived         0\n",
            "Pclass           0\n",
            "Name             0\n",
            "Sex              0\n",
            "Age              0\n",
            "SibSp            0\n",
            "Parch            0\n",
            "Ticket           0\n",
            "Fare             0\n",
            "Cabin          687\n",
            "Embarked         0\n",
            "dtype: int64\n",
            "Accuracy: 81.01%\n",
            "Confusion Matrix:\n",
            "[[90 15]\n",
            " [19 55]]\n",
            "Classification Report:\n",
            "              precision    recall  f1-score   support\n",
            "\n",
            "           0       0.83      0.86      0.84       105\n",
            "           1       0.79      0.74      0.76        74\n",
            "\n",
            "    accuracy                           0.81       179\n",
            "   macro avg       0.81      0.80      0.80       179\n",
            "weighted avg       0.81      0.81      0.81       179\n",
            "\n"
          ]
        }
      ],
      "source": [
        "import pandas as pd\n",
        "from sklearn.model_selection import train_test_split\n",
        "from sklearn.preprocessing import LabelEncoder\n",
        "from sklearn.impute import SimpleImputer\n",
        "from sklearn.linear_model import LogisticRegression\n",
        "from sklearn.metrics import accuracy_score, confusion_matrix, classification_report\n",
        "\n",
        "# Load the Titanic dataset from a CSV file\n",
        "url = '/content/Titanic-Dataset.csv'\n",
        "titanic_data = pd.read_csv(url)\n",
        "\n",
        "# Let's see how many missing values we have in each column\n",
        "print(\"Missing values before imputation:\")\n",
        "print(titanic_data.isnull().sum())\n",
        "\n",
        "# Fill in the missing ages with the median age\n",
        "imputer_age = SimpleImputer(strategy='median')\n",
        "titanic_data['Age'] = imputer_age.fit_transform(titanic_data[['Age']])\n",
        "\n",
        "# Fill in missing 'Embarked' values with the most common one\n",
        "imputer_embarked = SimpleImputer(strategy='most_frequent')\n",
        "# Reshape the 'Embarked' column to the correct format for the imputer\n",
        "titanic_data['Embarked'] = imputer_embarked.fit_transform(titanic_data[['Embarked']].values.reshape(-1, 1))[:, 0]\n",
        "\n",
        "# Check again to make sure we've filled in all the missing values\n",
        "print(\"Missing values after imputation:\")\n",
        "print(titanic_data.isnull().sum())\n",
        "\n",
        "# Drop the 'Cabin', 'Name', and 'Ticket' columns because they have too many missing values or are not useful for our model\n",
        "titanic_data = titanic_data.drop(columns=['Cabin', 'Name', 'Ticket'])\n",
        "\n",
        "# Convert the 'Sex' and 'Embarked' columns to numeric values\n",
        "label_encoder = LabelEncoder()\n",
        "titanic_data['Sex'] = label_encoder.fit_transform(titanic_data['Sex'])\n",
        "titanic_data['Embarked'] = label_encoder.fit_transform(titanic_data['Embarked'])\n",
        "\n",
        "# Separate our data into features (X) and target variable (y)\n",
        "X = titanic_data.drop(columns=['Survived', 'PassengerId'])\n",
        "y = titanic_data['Survived']\n",
        "\n",
        "# Split our data into a training set and a testing set\n",
        "X_train, X_test, y_train, y_test = train_test_split(X, y, test_size=0.2, random_state=42)\n",
        "\n",
        "# Create and train the logistic regression model\n",
        "model = LogisticRegression(max_iter=200)\n",
        "model.fit(X_train, y_train)\n",
        "\n",
        "# Use the trained model to make predictions on the test set\n",
        "y_pred = model.predict(X_test)\n",
        "\n",
        "# Evaluate how well our model is doing\n",
        "accuracy = accuracy_score(y_test, y_pred)\n",
        "conf_matrix = confusion_matrix(y_test, y_pred)\n",
        "class_report = classification_report(y_test, y_pred)\n",
        "\n",
        "# Print out the results of our model evaluation\n",
        "print(f\"Accuracy: {accuracy * 100:.2f}%\")\n",
        "print(\"Confusion Matrix:\")\n",
        "print(conf_matrix)\n",
        "print(\"Classification Report:\")\n",
        "print(class_report)"
      ]
    },
    {
      "cell_type": "code",
      "source": [],
      "metadata": {
        "id": "MklQlYb7iK5h"
      },
      "execution_count": null,
      "outputs": []
    }
  ]
}